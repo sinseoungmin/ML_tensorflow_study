{
 "cells": [
  {
   "cell_type": "code",
   "execution_count": 2,
   "metadata": {
    "collapsed": true
   },
   "outputs": [],
   "source": [
    "import tensorflow as tf\n",
    "import numpy as np"
   ]
  },
  {
   "cell_type": "code",
   "execution_count": 9,
   "metadata": {
    "collapsed": false
   },
   "outputs": [],
   "source": [
    "xy = np.loadtxt('data_07.txt', unpack=True)\n",
    "x_data = xy[0:-1]\n",
    "y_data = xy[-1]"
   ]
  },
  {
   "cell_type": "markdown",
   "metadata": {},
   "source": [
    "### xor을 logistic regression을 해서 풀 수있나?"
   ]
  },
  {
   "cell_type": "code",
   "execution_count": 29,
   "metadata": {
    "collapsed": false
   },
   "outputs": [
    {
     "name": "stdout",
     "output_type": "stream",
     "text": [
      "0 0.730608 [[ 0.2710174  -0.88396877]]\n",
      "200 0.714443 [[ 0.28641862 -0.73716676]]\n",
      "[array([[ 0.52462274,  0.34556395,  0.59507591,  0.41285449]], dtype=float32), array([[ 1.,  0.,  1.,  0.]], dtype=float32), array([[False, False,  True,  True]], dtype=bool), 0.5]\n",
      "400 0.708131 [[ 0.27178797 -0.63381159]]\n",
      "[array([[ 0.53425926,  0.37834954,  0.60085768,  0.44404253]], dtype=float32), array([[ 1.,  0.,  1.,  0.]], dtype=float32), array([[False, False,  True,  True]], dtype=bool), 0.5]\n",
      "600 0.704597 [[ 0.245644   -0.55501759]]\n",
      "[array([[ 0.53700268,  0.3996951 ,  0.59722739,  0.45981392]], dtype=float32), array([[ 1.,  0.,  1.,  0.]], dtype=float32), array([[False, False,  True,  True]], dtype=bool), 0.5]\n",
      "800 0.702117 [[ 0.21658    -0.49100667]]\n",
      "[array([[ 0.53666437,  0.41481739,  0.58988774,  0.46816674]], dtype=float32), array([[ 1.,  0.,  1.,  0.]], dtype=float32), array([[False, False,  True,  True]], dtype=bool), 0.5]\n",
      "1000 0.700225 [[ 0.18834168 -0.43679494]]\n",
      "[array([[ 0.53502262,  0.4264195 ,  0.58143377,  0.47299308]], dtype=float32), array([[ 1.,  0.,  1.,  0.]], dtype=float32), array([[False, False,  True,  True]], dtype=bool), 0.5]\n"
     ]
    }
   ],
   "source": [
    "x = tf.placeholder(tf.float32)\n",
    "y = tf.placeholder(tf.float32)\n",
    "\n",
    "w = tf.Variable(tf.random_uniform([1,2], -1.0, 1.0))\n",
    "b = tf.Variable(tf.zeros(1))\n",
    "\n",
    "# hypothesis\n",
    "h = tf.matmul(w,x)+b\n",
    "hypothesis = 1/(1+tf.exp(-h))\n",
    "\n",
    "cost = -tf.reduce_mean(y*tf.log(hypothesis) + (1-y)*tf.log(1-hypothesis))\n",
    "\n",
    "a = tf.constant(0.01)\n",
    "optimizer = tf.train.GradientDescentOptimizer(a)\n",
    "train = optimizer.minimize(cost)\n",
    "\n",
    "sess = tf.Session()\n",
    "sess.run(tf.global_variables_initializer())\n",
    "\n",
    "for i in range(1001):\n",
    "    sess.run(train, feed_dict = {x:x_data, y:y_data})\n",
    "    \n",
    "    # fit the line\n",
    "    if(i%200 ==0):\n",
    "        print(i, sess.run(cost, feed_dict = {x:x_data, y:y_data}), sess.run(w))\n",
    "        \n",
    "    if(i != 0 and i%200 ==0):\n",
    "        # test model\n",
    "        correct_prediction = tf.equal(tf.floor(hypothesis+0.5), y)\n",
    "        #calculate accuracy\n",
    "        accuracy = tf.reduce_mean(tf.cast(correct_prediction, 'float'))\n",
    "        print(sess.run([hypothesis, tf.floor(hypothesis+0.5), correct_prediction, accuracy], feed_dict = {x:x_data, y:y_data}))"
   ]
  },
  {
   "cell_type": "markdown",
   "metadata": {},
   "source": [
    "### 그렇다면 neural network?"
   ]
  },
  {
   "cell_type": "code",
   "execution_count": null,
   "metadata": {
    "collapsed": true
   },
   "outputs": [],
   "source": [
    "x_data_t = x_data.transpose()\n",
    "y_data_t = y_data.transpose()\n",
    "\n",
    "x = tf.placeholder(tf.float32)\n",
    "y = tf.placeholder(tf.float32)\n",
    "\n",
    "w1 = tf.Variable(tf.random_uniform([2,2], -1.0, 1.0))\n",
    "w2 = tf.Variable(tf.random_uniform([2,1], -1.0, 1.0))\n",
    "b1 = tf.Variable(tf.zeros([2]), name='bias1')\n",
    "b2 = tf.Variable(tf.zeros([1]), name='bias2')\n",
    "\n",
    "# Wide nn\n",
    "# w1 = tf.Variable(tf.random_uniform([2,10], -1.0, 1.0))\n",
    "# w2 = tf.Variable(tf.random_uniform([10,1], -1.0, 1.0))\n",
    "# b1 = tf.Variable(tf.zeros([10]), name='bias1')\n",
    "# b2 = tf.Variable(tf.zeros([1]), name='bias2')\n",
    "\n",
    "# Deep nn\n",
    "# w1 = tf.Variable(tf.random_uniform([2,5], -1.0, 1.0))\n",
    "# w2 = tf.Variable(tf.random_uniform([5,4], -1.0, 1.0))\n",
    "# w3 = tf.Variable(tf.random_uniform([4,1], -1.0, 1.0))\n",
    "# b1 = tf.Variable(tf.zeros([5]), name='bias1')\n",
    "# b2 = tf.Variable(tf.zeros([4]), name='bias2')\n",
    "# b3 = tf.Variable(tf.zeros([1]), name='bias2')\n",
    "# l2 = tf.sigmoid(tf.matmul(x,w1)+b1)\n",
    "# l3 = tf.sigmoid(tf.matmul(l2,w2)+b2)\n",
    "# hypothesis = tf.sigmoid(tf.matmul(l3,w3)+b3)\n",
    "\n",
    "# hypothesis\n",
    "l2 = tf.sigmoid(tf.matmul(x,w1)+b1)\n",
    "hypothesis = tf.sigmoid(tf.matmul(l2,w2)+b2)\n",
    "\n",
    "cost = -tf.reduce_mean(y*tf.log(hypothesis) + (1-y)*tf.log(1-hypothesis))\n",
    "\n",
    "a = tf.constant(0.01)\n",
    "optimizer = tf.train.GradientDescentOptimizer(a)\n",
    "train = optimizer.minimize(cost)\n",
    "\n",
    "sess = tf.Session()\n",
    "sess.run(tf.global_variables_initializer())\n",
    "\n",
    "for i in range(1001):\n",
    "    sess.run(train, feed_dict = {x:x_data, y:y_data})\n",
    "    \n",
    "    # fit the line\n",
    "    if(i%200 ==0):\n",
    "        print(i, sess.run(cost, feed_dict = {x:x_data, y:y_data}), sess.run(w))\n",
    "        \n",
    "    if(i != 0 and i%200 ==0):\n",
    "        # test model\n",
    "        correct_prediction = tf.equal(tf.floor(hypothesis+0.5), y)\n",
    "        #calculate accuracy\n",
    "        accuracy = tf.reduce_mean(tf.cast(correct_prediction, 'float'))\n",
    "        print(sess.run([hypothesis, tf.floor(hypothesis+0.5), correct_prediction, accuracy], feed_dict = {x:x_data, y:y_data}))"
   ]
  },
  {
   "cell_type": "code",
   "execution_count": 31,
   "metadata": {
    "collapsed": false
   },
   "outputs": [
    {
     "data": {
      "text/plain": [
       "array([[ 0.,  0.],\n",
       "       [ 0.,  1.],\n",
       "       [ 1.,  0.],\n",
       "       [ 1.,  1.]])"
      ]
     },
     "execution_count": 31,
     "metadata": {},
     "output_type": "execute_result"
    }
   ],
   "source": [
    "x_data.transpose()"
   ]
  },
  {
   "cell_type": "code",
   "execution_count": 32,
   "metadata": {
    "collapsed": false
   },
   "outputs": [
    {
     "data": {
      "text/plain": [
       "array([[ 0.,  0.,  1.,  1.],\n",
       "       [ 0.,  1.,  0.,  1.]])"
      ]
     },
     "execution_count": 32,
     "metadata": {},
     "output_type": "execute_result"
    }
   ],
   "source": [
    "x_data"
   ]
  },
  {
   "cell_type": "code",
   "execution_count": null,
   "metadata": {
    "collapsed": true
   },
   "outputs": [],
   "source": []
  }
 ],
 "metadata": {
  "anaconda-cloud": {},
  "kernelspec": {
   "display_name": "Python [conda root]",
   "language": "python",
   "name": "conda-root-py"
  },
  "language_info": {
   "codemirror_mode": {
    "name": "ipython",
    "version": 3
   },
   "file_extension": ".py",
   "mimetype": "text/x-python",
   "name": "python",
   "nbconvert_exporter": "python",
   "pygments_lexer": "ipython3",
   "version": "3.5.2"
  }
 },
 "nbformat": 4,
 "nbformat_minor": 1
}
