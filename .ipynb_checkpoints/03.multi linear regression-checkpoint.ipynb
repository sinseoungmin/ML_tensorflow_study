{
 "cells": [
  {
   "cell_type": "code",
   "execution_count": 1,
   "metadata": {
    "collapsed": true
   },
   "outputs": [],
   "source": [
    "import tensorflow as tf"
   ]
  },
  {
   "cell_type": "code",
   "execution_count": 10,
   "metadata": {
    "collapsed": false
   },
   "outputs": [
    {
     "name": "stdout",
     "output_type": "stream",
     "text": [
      "0 0.0648989 [[ 0.49058402  0.92762613  0.87530959]]\n",
      "20 0.0113934 [[ 0.2530413   0.93348259  0.92107755]]\n",
      "40 0.00329885 [[ 0.13615918  0.96420753  0.95753258]]\n",
      "60 0.000955159 [[ 0.07326601  0.98074037  0.97714865]]\n",
      "80 0.000276556 [[ 0.03942376  0.9896366   0.98770392]]\n",
      "100 8.00753e-05 [[ 0.02121361  0.99442357  0.99338359]]\n",
      "120 2.3185e-05 [[ 0.0114148   0.99699938  0.99643975]]\n",
      "140 6.71326e-06 [[ 0.00614223  0.99838537  0.99808425]]\n",
      "160 1.94377e-06 [[ 0.0033051   0.9991312   0.99896914]]\n",
      "180 5.62712e-07 [[ 0.00177842  0.99953246  0.99944532]]\n"
     ]
    }
   ],
   "source": [
    "x_data = [[1,1,1,1,1],\n",
    "          [1,0,3,0,5],\n",
    "          [0,2,0,4,0]]\n",
    "y_data = [1,2,3,4,5]\n",
    "\n",
    "w = tf.Variable(tf.random_uniform([1,3], -1.0, 1.0))\n",
    "\n",
    "x = tf.placeholder(tf.float32)\n",
    "y = tf.placeholder(tf.float32)\n",
    "\n",
    "hypothesis = tf.matmul(w,x)\n",
    "\n",
    "cost = tf.reduce_mean(tf.square(hypothesis - y))\n",
    "\n",
    "a = tf.Variable(0.1)\n",
    "optimizer = tf.train.GradientDescentOptimizer(a)\n",
    "train = optimizer.minimize(cost)\n",
    "\n",
    "init = tf.global_variables_initializer()\n",
    "\n",
    "sess = tf.Session()\n",
    "sess.run(init)\n",
    "\n",
    "for step in range(200):\n",
    "    sess.run(train, feed_dict={x:x_data, y:y_data})\n",
    "    if step%20==0:\n",
    "        print(step, sess.run(cost, feed_dict={x:x_data, y:y_data}), sess.run(w))\n",
    "        \n",
    "# print(sess.run(hypothesis, feed_dict={x1:5, x2:10}))"
   ]
  },
  {
   "cell_type": "code",
   "execution_count": null,
   "metadata": {
    "collapsed": true
   },
   "outputs": [],
   "source": []
  }
 ],
 "metadata": {
  "anaconda-cloud": {},
  "kernelspec": {
   "display_name": "Python 3",
   "language": "python",
   "name": "python3"
  },
  "language_info": {
   "codemirror_mode": {
    "name": "ipython",
    "version": 3
   },
   "file_extension": ".py",
   "mimetype": "text/x-python",
   "name": "python",
   "nbconvert_exporter": "python",
   "pygments_lexer": "ipython3",
   "version": "3.5.1"
  }
 },
 "nbformat": 4,
 "nbformat_minor": 1
}
