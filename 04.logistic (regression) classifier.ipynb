{
 "cells": [
  {
   "cell_type": "code",
   "execution_count": 3,
   "metadata": {
    "collapsed": true
   },
   "outputs": [],
   "source": [
    "import tensorflow as tf\n",
    "import numpy as np"
   ]
  },
  {
   "cell_type": "code",
   "execution_count": 6,
   "metadata": {
    "collapsed": false,
    "scrolled": false
   },
   "outputs": [
    {
     "name": "stdout",
     "output_type": "stream",
     "text": [
      "0 1.73583 [[-0.5411644   0.84725881  0.72430944]]\n",
      "1000 0.116935 [[-12.1272707    0.24700287   2.67649865]]\n",
      "2000 0.0749653 [[-16.57032013   0.24204043   3.6555264 ]]\n",
      "3000 0.0542978 [[-19.69752884   0.23815969   4.34758806]]\n",
      "4000 0.0422299 [[-22.090271     0.23573522   4.87783718]]\n",
      "5000 0.0344081 [[-24.01796532   0.23412976   5.3053236 ]]\n",
      "6000 0.0289617 [[-25.62723541   0.23300171   5.66234541]]\n",
      "7000 0.0249665 [[-27.00589561   0.23216915   5.96829271]]\n",
      "8000 0.0219181 [[-28.21035957   0.23153323   6.23563528]]\n",
      "9000 0.0195197 [[-29.278862     0.23103076   6.47283602]]\n"
     ]
    }
   ],
   "source": [
    "xy = np.loadtxt('train.txt', unpack=True, dtype='float32')\n",
    "x_data = xy[0:-1]\n",
    "y_data = xy[-1]\n",
    "\n",
    "x = tf.placeholder(tf.float32)\n",
    "y = tf.placeholder(tf.float32)\n",
    "\n",
    "w = tf.Variable(tf.random_uniform([1,len(x_data)], -1.0, 1.0))\n",
    "\n",
    "h = tf.matmul(w,x)\n",
    "hypothesis = tf.div(1., 1.+tf.exp(-h))\n",
    "\n",
    "cost = -tf.reduce_mean(y*tf.log(hypothesis) + (1-y)*tf.log(1-hypothesis))\n",
    "\n",
    "a = tf.Variable(0.5)\n",
    "optimizer = tf.train.GradientDescentOptimizer(a)\n",
    "train = optimizer.minimize(cost)\n",
    "\n",
    "init = tf.initialize_all_variables()\n",
    "\n",
    "sess = tf.Session()\n",
    "sess.run(init)\n",
    "\n",
    "for step in range(10000):\n",
    "    sess.run(train, feed_dict = {x:x_data, y:y_data})\n",
    "    if step%1000 == 0:\n",
    "        print(step, sess.run(cost, feed_dict = {x:x_data, y:y_data}), sess.run(w))"
   ]
  },
  {
   "cell_type": "code",
   "execution_count": 7,
   "metadata": {
    "collapsed": false
   },
   "outputs": [
    {
     "name": "stdout",
     "output_type": "stream",
     "text": [
      "[[ True]]\n",
      "[[False]]\n",
      "[[ True]]\n"
     ]
    }
   ],
   "source": [
    "print(sess.run(hypothesis, feed_dict={x:[[1],[6],[5]]})>0.5)\n",
    "print(sess.run(hypothesis, feed_dict={x:[[1],[2],[3]]})>0.5)\n",
    "\n",
    "x1 =[[1,5,6]]\n",
    "x1t = np.transpose(x1)\n",
    "print(sess.run(hypothesis, feed_dict={x:x1t})>0.5)"
   ]
  },
  {
   "cell_type": "code",
   "execution_count": null,
   "metadata": {
    "collapsed": true
   },
   "outputs": [],
   "source": []
  }
 ],
 "metadata": {
  "anaconda-cloud": {},
  "kernelspec": {
   "display_name": "Python 3",
   "language": "python",
   "name": "python3"
  },
  "language_info": {
   "codemirror_mode": {
    "name": "ipython",
    "version": 3
   },
   "file_extension": ".py",
   "mimetype": "text/x-python",
   "name": "python",
   "nbconvert_exporter": "python",
   "pygments_lexer": "ipython3",
   "version": "3.5.1"
  }
 },
 "nbformat": 4,
 "nbformat_minor": 1
}
