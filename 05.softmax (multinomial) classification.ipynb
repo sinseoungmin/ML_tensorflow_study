{
 "cells": [
  {
   "cell_type": "code",
   "execution_count": 45,
   "metadata": {
    "collapsed": true
   },
   "outputs": [],
   "source": [
    "import tensorflow as tf\n",
    "import numpy as np\n",
    "import matplotlib.pyplot as plt"
   ]
  },
  {
   "cell_type": "code",
   "execution_count": 57,
   "metadata": {
    "collapsed": false
   },
   "outputs": [
    {
     "name": "stdout",
     "output_type": "stream",
     "text": [
      "0 1.09774\n",
      "200 1.05962\n",
      "400 1.04985\n",
      "600 1.0407\n",
      "800 1.03194\n",
      "1000 1.02354\n",
      "1200 1.01547\n",
      "1400 1.0077\n",
      "1600 1.00021\n",
      "1800 0.992979\n",
      "2000 0.985988\n"
     ]
    }
   ],
   "source": [
    "xy = np.loadtxt('soft_train.txt')\n",
    "\n",
    "x_data = xy[:,:3]\n",
    "y_data = xy[:,3:]\n",
    "\n",
    "x = tf.placeholder('float', [None,3])\n",
    "y = tf.placeholder('float', [None,3])\n",
    "\n",
    "# 뒤의 3은 class 개수, 앞의 3은 차원(feature)개수\n",
    "w = tf.Variable(tf.zeros([3,3]))\n",
    "\n",
    "hypothesis = tf.nn.softmax(tf.matmul(x,w))\n",
    "\n",
    "learning_rate = 0.001\n",
    "\n",
    "cost = tf.reduce_mean(-tf.reduce_sum(y*tf.log(hypothesis), reduction_indices=1))\n",
    "\n",
    "optimizer = tf.train.GradientDescentOptimizer(learning_rate).minimize(cost)\n",
    "\n",
    "init = tf.initialize_all_variables()\n",
    "sess = tf.Session()\n",
    "sess.run(init)\n",
    "\n",
    "for step in range(2001):\n",
    "    sess.run(optimizer, feed_dict = {x:x_data, y:y_data})\n",
    "    if step%200 == 0:\n",
    "        print(step, sess.run(cost, feed_dict = {x:x_data, y:y_data}))"
   ]
  },
  {
   "cell_type": "code",
   "execution_count": 41,
   "metadata": {
    "collapsed": false
   },
   "outputs": [
    {
     "data": {
      "text/plain": [
       "array([[-2.93963838, -0.41891253,  3.3585608 ],\n",
       "       [ 0.13664404, -0.03523529, -0.10142912],\n",
       "       [ 0.47884271,  0.22132409, -0.70008361]], dtype=float32)"
      ]
     },
     "execution_count": 41,
     "metadata": {},
     "output_type": "execute_result"
    }
   ],
   "source": [
    "sess.run(w)"
   ]
  },
  {
   "cell_type": "code",
   "execution_count": 62,
   "metadata": {
    "collapsed": false
   },
   "outputs": [
    {
     "name": "stdout",
     "output_type": "stream",
     "text": [
      "[[ 0.46272627  0.35483006  0.18244371]] [0]\n",
      "[[ 0.33820099  0.42101386  0.24078514]] [1]\n",
      "[[ 0.27002314  0.29085544  0.4391214 ]] [2]\n"
     ]
    }
   ],
   "source": [
    "a = sess.run(hypothesis, feed_dict={x:[[1,11,7]]})\n",
    "print(a, sess.run(tf.arg_max(a,1)))\n",
    "b = sess.run(hypothesis, feed_dict={x:[[1,3,4]]})\n",
    "print(b, sess.run(tf.arg_max(b,1)))\n",
    "c = sess.run(hypothesis, feed_dict={x:[[1,1,0]]})\n",
    "print(c, sess.run(tf.arg_max(c,1)))"
   ]
  },
  {
   "cell_type": "code",
   "execution_count": null,
   "metadata": {
    "collapsed": true
   },
   "outputs": [],
   "source": []
  }
 ],
 "metadata": {
  "kernelspec": {
   "display_name": "Python 3",
   "language": "python",
   "name": "python3"
  },
  "language_info": {
   "codemirror_mode": {
    "name": "ipython",
    "version": 3
   },
   "file_extension": ".py",
   "mimetype": "text/x-python",
   "name": "python",
   "nbconvert_exporter": "python",
   "pygments_lexer": "ipython3",
   "version": "3.5.1"
  }
 },
 "nbformat": 4,
 "nbformat_minor": 0
}
