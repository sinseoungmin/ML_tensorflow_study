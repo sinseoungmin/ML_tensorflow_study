{
 "cells": [
  {
   "cell_type": "code",
   "execution_count": 1,
   "metadata": {
    "collapsed": true
   },
   "outputs": [],
   "source": [
    "import tensorflow as tf"
   ]
  },
  {
   "cell_type": "code",
   "execution_count": 11,
   "metadata": {
    "collapsed": false
   },
   "outputs": [
    {
     "name": "stdout",
     "output_type": "stream",
     "text": [
      "0 0.481616 [ 1.94121122] [ 0.809901]\n",
      "20 0.026578 [ 1.81065333] [ 0.4304294]\n",
      "40 0.0100419 [ 1.88361311] [ 0.26457483]\n",
      "60 0.0037941 [ 1.92845976] [ 0.16262779]\n",
      "80 0.00143352 [ 1.95602584] [ 0.09996344]\n",
      "100 0.000541616 [ 1.97297013] [ 0.06144505]\n",
      "120 0.000204637 [ 1.98338532] [ 0.03776876]\n",
      "140 7.73177e-05 [ 1.98978746] [ 0.02321555]\n",
      "160 2.92123e-05 [ 1.99372256] [ 0.01427008]\n",
      "180 1.10372e-05 [ 1.99614143] [ 0.00877146]\n",
      "[ 9.99337387]\n"
     ]
    }
   ],
   "source": [
    "x_data = [1,2,3]\n",
    "y_data = [2,4,6]\n",
    "\n",
    "W = tf.Variable(tf.random_uniform([1], -1.0, 1.0))\n",
    "b = tf.Variable(tf.random_uniform([1], -1.0, 1.0))\n",
    "\n",
    "X = tf.placeholder(tf.float32)\n",
    "Y = tf.placeholder(tf.float32)\n",
    "\n",
    "hypothesis = W * X + b\n",
    "\n",
    "cost = tf.reduce_mean(tf.square(hypothesis - Y))\n",
    "\n",
    "a = tf.Variable(0.1)\n",
    "optimizer = tf.train.GradientDescentOptimizer(a)\n",
    "train = optimizer.minimize(cost)\n",
    "\n",
    "init = tf.initialize_all_variables()\n",
    "\n",
    "sess = tf.Session()\n",
    "sess.run(init)\n",
    "\n",
    "for step in range(200):\n",
    "    sess.run(train, feed_dict={X:x_data, Y:y_data})\n",
    "    if step%20==0:\n",
    "        print(step, sess.run(cost, feed_dict={X:x_data, Y:y_data}), sess.run(W), sess.run(b))\n",
    "        \n",
    "print(sess.run(hypothesis, feed_dict={X:5}))\n"
   ]
  },
  {
   "cell_type": "code",
   "execution_count": null,
   "metadata": {
    "collapsed": true
   },
   "outputs": [],
   "source": []
  }
 ],
 "metadata": {
  "kernelspec": {
   "display_name": "Python 3",
   "language": "python",
   "name": "python3"
  },
  "language_info": {
   "codemirror_mode": {
    "name": "ipython",
    "version": 3
   },
   "file_extension": ".py",
   "mimetype": "text/x-python",
   "name": "python",
   "nbconvert_exporter": "python",
   "pygments_lexer": "ipython3",
   "version": "3.5.1"
  }
 },
 "nbformat": 4,
 "nbformat_minor": 0
}
