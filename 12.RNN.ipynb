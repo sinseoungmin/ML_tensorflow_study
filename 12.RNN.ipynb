{
 "cells": [
  {
   "cell_type": "markdown",
   "metadata": {},
   "source": [
    "### Character-level language modal example"
   ]
  },
  {
   "cell_type": "code",
   "execution_count": 1,
   "metadata": {
    "collapsed": true
   },
   "outputs": [],
   "source": [
    "import tensorflow as tf\n",
    "import numpy as np"
   ]
  },
  {
   "cell_type": "code",
   "execution_count": 2,
   "metadata": {
    "collapsed": false
   },
   "outputs": [],
   "source": [
    "char_rdic = ['h', 'e', 'l', 'o']\n",
    "char_dic = {w: i for i,w in enumerate(char_rdic)}\n",
    "ground_truth = [char_dic[c] for c in 'hello']"
   ]
  },
  {
   "cell_type": "code",
   "execution_count": 3,
   "metadata": {
    "collapsed": true
   },
   "outputs": [],
   "source": [
    "x_data = np.array([[1,0,0,0], # h\n",
    "                 [0,1,0,0],   # e\n",
    "                 [0,0,1,0],   # l\n",
    "                 [0,0,1,0]],  # l\n",
    "                 dtype='f')"
   ]
  },
  {
   "cell_type": "code",
   "execution_count": 8,
   "metadata": {
    "collapsed": false
   },
   "outputs": [
    {
     "name": "stdout",
     "output_type": "stream",
     "text": [
      "Tensor(\"one_hot:0\", shape=(4, 4), dtype=float32)\n"
     ]
    }
   ],
   "source": [
    "x_data = tf.one_hot(ground_truth[:-1], len(char_dic), 1.0, 0.0, -1)\n",
    "print(x_data)"
   ]
  },
  {
   "cell_type": "code",
   "execution_count": 4,
   "metadata": {
    "collapsed": true
   },
   "outputs": [],
   "source": [
    "# configure\n",
    "rnn_size = len(char_dic) # 4 => 출력의 개수\n",
    "batch_size = 1\n",
    "output_size = 4\n",
    "time_step_size = len(char_dic)"
   ]
  },
  {
   "cell_type": "code",
   "execution_count": 5,
   "metadata": {
    "collapsed": false
   },
   "outputs": [],
   "source": [
    "# rnn model\n",
    "rnn_cell = tf.nn.rnn_cell.BasicRNNCell(num_units=rnn_size)\n",
    "initial_state = rnn_cell.zero_state(batch_size, tf.float32)\n",
    "x_split = tf.split(0, time_step_size, x_data)\n",
    "outputs, state = tf.nn.rnn(cell=rnn_cell, inputs=x_split, initial_state=initial_state)"
   ]
  },
  {
   "cell_type": "code",
   "execution_count": 8,
   "metadata": {
    "collapsed": false
   },
   "outputs": [],
   "source": [
    "# cost => sequence_loss_by_example 사용 => 범용이기 때문에 원하는 포멧이 있음\n",
    "# logits: list of 2D tensors of shape[batch_size*num_decoder_symbols]\n",
    "# targets: list of 1D batch-sized int32 tensors of the same length as logits\n",
    "# weights: list of 1D batch-sized float tensors of the same length as logits\n",
    "logits = tf.reshape(tf.concat(1,outputs), [-1,rnn_size])\n",
    "targets = tf.reshape(ground_truth[1:], [-1])\n",
    "weights = tf.ones([time_step_size*batch_size])\n",
    "\n",
    "loss = tf.nn.seq2seq.sequence_loss_by_example([logits], [targets], [weights])\n",
    "cost = tf.reduce_sum(loss)/batch_size\n",
    "train_op = tf.train.RMSPropOptimizer(0.01, 0.9).minimize(cost)"
   ]
  },
  {
   "cell_type": "code",
   "execution_count": 9,
   "metadata": {
    "collapsed": false
   },
   "outputs": [
    {
     "name": "stdout",
     "output_type": "stream",
     "text": [
      "[3 3 0 1] ['o', 'o', 'h', 'e']\n",
      "[3 3 0 1] ['o', 'o', 'h', 'e']\n",
      "[3 3 0 1] ['o', 'o', 'h', 'e']\n",
      "[3 3 0 1] ['o', 'o', 'h', 'e']\n",
      "[3 3 0 1] ['o', 'o', 'h', 'e']\n",
      "[3 3 0 1] ['o', 'o', 'h', 'e']\n",
      "[3 3 0 1] ['o', 'o', 'h', 'e']\n",
      "[3 3 0 1] ['o', 'o', 'h', 'e']\n",
      "[3 3 0 1] ['o', 'o', 'h', 'e']\n",
      "[3 3 0 1] ['o', 'o', 'h', 'e']\n",
      "[3 3 0 1] ['o', 'o', 'h', 'e']\n",
      "[3 3 0 1] ['o', 'o', 'h', 'e']\n",
      "[3 3 0 1] ['o', 'o', 'h', 'e']\n",
      "[3 3 0 1] ['o', 'o', 'h', 'e']\n",
      "[3 3 0 1] ['o', 'o', 'h', 'e']\n",
      "[3 3 0 1] ['o', 'o', 'h', 'e']\n",
      "[3 3 0 1] ['o', 'o', 'h', 'e']\n",
      "[3 3 0 1] ['o', 'o', 'h', 'e']\n",
      "[3 3 0 1] ['o', 'o', 'h', 'e']\n",
      "[3 3 0 1] ['o', 'o', 'h', 'e']\n",
      "[3 3 2 1] ['o', 'o', 'l', 'e']\n",
      "[3 3 2 1] ['o', 'o', 'l', 'e']\n",
      "[3 3 2 1] ['o', 'o', 'l', 'e']\n",
      "[3 2 2 1] ['o', 'l', 'l', 'e']\n",
      "[3 2 2 1] ['o', 'l', 'l', 'e']\n",
      "[3 2 2 1] ['o', 'l', 'l', 'e']\n",
      "[3 2 2 1] ['o', 'l', 'l', 'e']\n",
      "[3 2 2 1] ['o', 'l', 'l', 'e']\n",
      "[3 2 2 1] ['o', 'l', 'l', 'e']\n",
      "[3 2 2 1] ['o', 'l', 'l', 'e']\n",
      "[3 2 2 1] ['o', 'l', 'l', 'e']\n",
      "[3 2 2 1] ['o', 'l', 'l', 'e']\n",
      "[3 2 2 1] ['o', 'l', 'l', 'e']\n",
      "[3 2 2 1] ['o', 'l', 'l', 'e']\n",
      "[3 2 2 1] ['o', 'l', 'l', 'e']\n",
      "[3 2 2 1] ['o', 'l', 'l', 'e']\n",
      "[3 2 2 1] ['o', 'l', 'l', 'e']\n",
      "[3 2 2 1] ['o', 'l', 'l', 'e']\n",
      "[3 2 2 1] ['o', 'l', 'l', 'e']\n",
      "[3 2 2 1] ['o', 'l', 'l', 'e']\n",
      "[3 2 2 1] ['o', 'l', 'l', 'e']\n",
      "[3 2 2 1] ['o', 'l', 'l', 'e']\n",
      "[3 2 2 3] ['o', 'l', 'l', 'o']\n",
      "[3 2 2 3] ['o', 'l', 'l', 'o']\n",
      "[3 2 2 3] ['o', 'l', 'l', 'o']\n",
      "[3 2 2 3] ['o', 'l', 'l', 'o']\n",
      "[3 2 2 3] ['o', 'l', 'l', 'o']\n",
      "[3 2 2 3] ['o', 'l', 'l', 'o']\n",
      "[3 2 2 3] ['o', 'l', 'l', 'o']\n",
      "[3 2 2 3] ['o', 'l', 'l', 'o']\n",
      "[3 2 2 3] ['o', 'l', 'l', 'o']\n",
      "[3 2 2 3] ['o', 'l', 'l', 'o']\n",
      "[3 2 2 3] ['o', 'l', 'l', 'o']\n",
      "[3 2 2 3] ['o', 'l', 'l', 'o']\n",
      "[1 2 2 3] ['e', 'l', 'l', 'o']\n",
      "[1 2 2 3] ['e', 'l', 'l', 'o']\n",
      "[1 2 2 3] ['e', 'l', 'l', 'o']\n",
      "[1 2 2 3] ['e', 'l', 'l', 'o']\n",
      "[1 2 2 3] ['e', 'l', 'l', 'o']\n",
      "[1 2 2 3] ['e', 'l', 'l', 'o']\n",
      "[1 2 2 3] ['e', 'l', 'l', 'o']\n",
      "[1 2 2 3] ['e', 'l', 'l', 'o']\n",
      "[1 2 2 3] ['e', 'l', 'l', 'o']\n",
      "[1 2 2 3] ['e', 'l', 'l', 'o']\n",
      "[1 2 2 3] ['e', 'l', 'l', 'o']\n",
      "[1 2 2 3] ['e', 'l', 'l', 'o']\n",
      "[1 2 2 3] ['e', 'l', 'l', 'o']\n",
      "[1 2 2 3] ['e', 'l', 'l', 'o']\n",
      "[1 2 2 3] ['e', 'l', 'l', 'o']\n",
      "[1 2 2 3] ['e', 'l', 'l', 'o']\n",
      "[1 2 2 3] ['e', 'l', 'l', 'o']\n",
      "[1 2 2 3] ['e', 'l', 'l', 'o']\n",
      "[1 2 2 3] ['e', 'l', 'l', 'o']\n",
      "[1 2 2 3] ['e', 'l', 'l', 'o']\n",
      "[1 2 2 3] ['e', 'l', 'l', 'o']\n",
      "[1 2 2 3] ['e', 'l', 'l', 'o']\n",
      "[1 2 2 3] ['e', 'l', 'l', 'o']\n",
      "[1 2 2 3] ['e', 'l', 'l', 'o']\n",
      "[1 2 2 3] ['e', 'l', 'l', 'o']\n",
      "[1 2 2 3] ['e', 'l', 'l', 'o']\n",
      "[1 2 2 3] ['e', 'l', 'l', 'o']\n",
      "[1 2 2 3] ['e', 'l', 'l', 'o']\n",
      "[1 2 2 3] ['e', 'l', 'l', 'o']\n",
      "[1 2 2 3] ['e', 'l', 'l', 'o']\n",
      "[1 2 2 3] ['e', 'l', 'l', 'o']\n",
      "[1 2 2 3] ['e', 'l', 'l', 'o']\n",
      "[1 2 2 3] ['e', 'l', 'l', 'o']\n",
      "[1 2 2 3] ['e', 'l', 'l', 'o']\n",
      "[1 2 2 3] ['e', 'l', 'l', 'o']\n",
      "[1 2 2 3] ['e', 'l', 'l', 'o']\n",
      "[1 2 2 3] ['e', 'l', 'l', 'o']\n",
      "[1 2 2 3] ['e', 'l', 'l', 'o']\n",
      "[1 2 2 3] ['e', 'l', 'l', 'o']\n",
      "[1 2 2 3] ['e', 'l', 'l', 'o']\n",
      "[1 2 2 3] ['e', 'l', 'l', 'o']\n",
      "[1 2 2 3] ['e', 'l', 'l', 'o']\n",
      "[1 2 2 3] ['e', 'l', 'l', 'o']\n",
      "[1 2 2 3] ['e', 'l', 'l', 'o']\n",
      "[1 2 2 3] ['e', 'l', 'l', 'o']\n",
      "[1 2 2 3] ['e', 'l', 'l', 'o']\n"
     ]
    }
   ],
   "source": [
    "with tf.Session() as sess:\n",
    "    sess.run(tf.global_variables_initializer())\n",
    "    for i in range(100):\n",
    "        sess.run(train_op)\n",
    "        result = sess.run(tf.arg_max(logits,1))\n",
    "        print(result, [char_rdic[t] for t in result])"
   ]
  },
  {
   "cell_type": "markdown",
   "metadata": {
    "collapsed": true
   },
   "source": [
    " #### Deep RNN\n"
   ]
  },
  {
   "cell_type": "code",
   "execution_count": null,
   "metadata": {
    "collapsed": true
   },
   "outputs": [],
   "source": [
    "one_cell = tf.nn.rnn_cell.BasicRNNCell(rnn_size)\n",
    "rnn_cell = tf.nn.rnn_cell.MultiRNNCell([one_cell]*depth)"
   ]
  }
 ],
 "metadata": {
  "kernelspec": {
   "display_name": "Python 3",
   "language": "python",
   "name": "python3"
  },
  "language_info": {
   "codemirror_mode": {
    "name": "ipython",
    "version": 3
   },
   "file_extension": ".py",
   "mimetype": "text/x-python",
   "name": "python",
   "nbconvert_exporter": "python",
   "pygments_lexer": "ipython3",
   "version": "3.5.1"
  }
 },
 "nbformat": 4,
 "nbformat_minor": 0
}
