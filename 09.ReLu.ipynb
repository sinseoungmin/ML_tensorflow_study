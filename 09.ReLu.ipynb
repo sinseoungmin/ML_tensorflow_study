{
 "cells": [
  {
   "cell_type": "code",
   "execution_count": 19,
   "metadata": {
    "collapsed": true
   },
   "outputs": [],
   "source": [
    "import tensorflow as tf\n",
    "import numpy as np"
   ]
  },
  {
   "cell_type": "code",
   "execution_count": 21,
   "metadata": {
    "collapsed": false
   },
   "outputs": [
    {
     "data": {
      "text/plain": [
       "array([[ 0.,  0.,  1.,  1.],\n",
       "       [ 0.,  1.,  0.,  1.],\n",
       "       [ 0.,  1.,  1.,  0.]])"
      ]
     },
     "execution_count": 21,
     "metadata": {},
     "output_type": "execute_result"
    }
   ],
   "source": [
    "xy"
   ]
  },
  {
   "cell_type": "code",
   "execution_count": 22,
   "metadata": {
    "collapsed": true
   },
   "outputs": [],
   "source": [
    "x_data = xy[0:-1]\n",
    "y_data = xy[-1]"
   ]
  },
  {
   "cell_type": "code",
   "execution_count": 23,
   "metadata": {
    "collapsed": false
   },
   "outputs": [
    {
     "data": {
      "text/plain": [
       "array([[ 0.,  0.,  1.,  1.],\n",
       "       [ 0.,  1.,  0.,  1.]])"
      ]
     },
     "execution_count": 23,
     "metadata": {},
     "output_type": "execute_result"
    }
   ],
   "source": [
    "x_data"
   ]
  },
  {
   "cell_type": "code",
   "execution_count": 24,
   "metadata": {
    "collapsed": true
   },
   "outputs": [],
   "source": [
    "x_data_t = x_data.transpose()\n",
    "y_data_t = y_data.transpose()"
   ]
  },
  {
   "cell_type": "code",
   "execution_count": 25,
   "metadata": {
    "collapsed": false
   },
   "outputs": [],
   "source": [
    "y_data_t = [[0],[1],[1],[0]]"
   ]
  },
  {
   "cell_type": "code",
   "execution_count": 27,
   "metadata": {
    "collapsed": false
   },
   "outputs": [
    {
     "name": "stdout",
     "output_type": "stream",
     "text": [
      "[[ 0.  0.]\n",
      " [ 0.  1.]\n",
      " [ 1.  0.]\n",
      " [ 1.  1.]]\n",
      "\n",
      "[[0], [1], [1], [0]]\n"
     ]
    }
   ],
   "source": [
    "print(x_data_t)\n",
    "print('')\n",
    "print(y_data_t)"
   ]
  },
  {
   "cell_type": "code",
   "execution_count": 1,
   "metadata": {
    "collapsed": false
   },
   "outputs": [
    {
     "ename": "NameError",
     "evalue": "name 'tf' is not defined",
     "output_type": "error",
     "traceback": [
      "\u001b[0;31m---------------------------------------------------------------------------\u001b[0m",
      "\u001b[0;31mNameError\u001b[0m                                 Traceback (most recent call last)",
      "\u001b[0;32m<ipython-input-1-4f10e30c8a60>\u001b[0m in \u001b[0;36m<module>\u001b[0;34m()\u001b[0m\n\u001b[0;32m----> 1\u001b[0;31m \u001b[0mx\u001b[0m \u001b[0;34m=\u001b[0m \u001b[0mtf\u001b[0m\u001b[0;34m.\u001b[0m\u001b[0mplaceholder\u001b[0m\u001b[0;34m(\u001b[0m\u001b[0mtf\u001b[0m\u001b[0;34m.\u001b[0m\u001b[0mfloat32\u001b[0m\u001b[0;34m,\u001b[0m \u001b[0mshape\u001b[0m\u001b[0;34m=\u001b[0m\u001b[0;34m[\u001b[0m\u001b[0;36m4\u001b[0m\u001b[0;34m,\u001b[0m\u001b[0;36m2\u001b[0m\u001b[0;34m]\u001b[0m\u001b[0;34m,\u001b[0m \u001b[0mname\u001b[0m\u001b[0;34m=\u001b[0m\u001b[0;34m'x-input'\u001b[0m\u001b[0;34m)\u001b[0m\u001b[0;34m\u001b[0m\u001b[0m\n\u001b[0m\u001b[1;32m      2\u001b[0m \u001b[0my\u001b[0m \u001b[0;34m=\u001b[0m \u001b[0mtf\u001b[0m\u001b[0;34m.\u001b[0m\u001b[0mplaceholder\u001b[0m\u001b[0;34m(\u001b[0m\u001b[0mtf\u001b[0m\u001b[0;34m.\u001b[0m\u001b[0mfloat32\u001b[0m\u001b[0;34m,\u001b[0m \u001b[0mshape\u001b[0m\u001b[0;34m=\u001b[0m\u001b[0;34m[\u001b[0m\u001b[0;36m4\u001b[0m\u001b[0;34m,\u001b[0m\u001b[0;36m1\u001b[0m\u001b[0;34m]\u001b[0m\u001b[0;34m,\u001b[0m \u001b[0mname\u001b[0m\u001b[0;34m=\u001b[0m\u001b[0;34m'y-input'\u001b[0m\u001b[0;34m)\u001b[0m\u001b[0;34m\u001b[0m\u001b[0m\n\u001b[1;32m      3\u001b[0m \u001b[0;34m\u001b[0m\u001b[0m\n\u001b[1;32m      4\u001b[0m \u001b[0;34m\u001b[0m\u001b[0m\n\u001b[1;32m      5\u001b[0m \u001b[0;31m# variable\u001b[0m\u001b[0;34m\u001b[0m\u001b[0;34m\u001b[0m\u001b[0m\n",
      "\u001b[0;31mNameError\u001b[0m: name 'tf' is not defined"
     ]
    }
   ],
   "source": [
    "x = tf.placeholder(tf.float32, shape=[4,2], name='x-input')\n",
    "y = tf.placeholder(tf.float32, shape=[4,1], name='y-input')\n",
    "\n",
    "\n",
    "# variable\n",
    "w1 = tf.Variable(tf.random_uniform([2,5], -1.0, 1.0), name='weight1')\n",
    "w2 = tf.Variable(tf.random_uniform([5,5], -1.0, 1.0), name='weight2')\n",
    "w3 = tf.Variable(tf.random_uniform([5,5], -1.0, 1.0), name='weight3')\n",
    "w4 = tf.Variable(tf.random_uniform([5,5], -1.0, 1.0), name='weight4')\n",
    "w5 = tf.Variable(tf.random_uniform([5,5], -1.0, 1.0), name='weight5')\n",
    "w6 = tf.Variable(tf.random_uniform([5,5], -1.0, 1.0), name='weight6')\n",
    "w7 = tf.Variable(tf.random_uniform([5,5], -1.0, 1.0), name='weight7')\n",
    "w8 = tf.Variable(tf.random_uniform([5,5], -1.0, 1.0), name='weight8')\n",
    "w9 = tf.Variable(tf.random_uniform([5,5], -1.0, 1.0), name='weight9')\n",
    "w10 = tf.Variable(tf.random_uniform([5,5], -1.0, 1.0), name='weight10')\n",
    "w11 = tf.Variable(tf.random_uniform([5,1], -1.0, 1.0), name='weight11')\n",
    "\n",
    "b1 = tf.Variable(tf.zeros([5]), name='bias1')\n",
    "b2 = tf.Variable(tf.zeros([5]), name='bias2')\n",
    "b3 = tf.Variable(tf.zeros([5]), name='bias3')\n",
    "b4 = tf.Variable(tf.zeros([5]), name='bias4')\n",
    "b5 = tf.Variable(tf.zeros([5]), name='bias5')\n",
    "b6 = tf.Variable(tf.zeros([5]), name='bias6')\n",
    "b7 = tf.Variable(tf.zeros([5]), name='bias7')\n",
    "b8 = tf.Variable(tf.zeros([5]), name='bias8')\n",
    "b9 = tf.Variable(tf.zeros([5]), name='bias9')\n",
    "b10 = tf.Variable(tf.zeros([5]), name='bias10')\n",
    "b11 = tf.Variable(tf.zeros([1]), name='bias11')\n",
    "\n",
    "\n",
    "# hypothesis\n",
    "with tf.name_scope('layer1') as scope:\n",
    "    l1 = tf.nn.relu(tf.matmul(x,w1)+b1)\n",
    "with tf.name_scope('layer2') as scope:\n",
    "    l2 = tf.nn.relu(tf.matmul(l1,w2)+b2)\n",
    "with tf.name_scope('layer3') as scope:\n",
    "    l3 = tf.nn.relu(tf.matmul(l2,w3)+b3)\n",
    "with tf.name_scope('layer4') as scope:\n",
    "    l4 = tf.nn.relu(tf.matmul(l3,w4)+b4)\n",
    "with tf.name_scope('layer5') as scope:\n",
    "    l5 = tf.nn.relu(tf.matmul(l4,w5)+b5)\n",
    "with tf.name_scope('layer6') as scope:\n",
    "    l6 = tf.nn.relu(tf.matmul(l5,w6)+b6)\n",
    "with tf.name_scope('layer7') as scope:\n",
    "    l7 = tf.nn.relu(tf.matmul(l6,w7)+b7)\n",
    "with tf.name_scope('layer8') as scope:\n",
    "    l8 = tf.nn.relu(tf.matmul(l7,w8)+b8)\n",
    "with tf.name_scope('layer9') as scope:\n",
    "    l9 = tf.nn.relu(tf.matmul(l8,w9)+b9)\n",
    "with tf.name_scope('layer10') as scope:\n",
    "    l10 = tf.nn.relu(tf.matmul(l9,w10)+b10)\n",
    "    \n",
    "with tf.name_scope('last') as scope:\n",
    "    hypothesis = tf.sigmoid(tf.matmul(l10,w11)+b11)\n",
    "\n",
    "\n",
    "# cost\n",
    "with tf.name_scope('cost') as scope:\n",
    "    cost = -tf.reduce_mean(y*tf.log(hypothesis) + (1-y)*tf.log(1-hypothesis))\n",
    "    cost_summ = tf.scalar_summary('cost', cost)\n",
    "    \n",
    "# minimize\n",
    "a = tf.constant(0.1)\n",
    "with tf.name_scope('train') as scope:\n",
    "    optimizer = tf.train.GradientDescentOptimizer(a)\n",
    "    train = optimizer.minimize(cost)\n",
    "    \n",
    "\n",
    "    \n",
    "# tensorboard --logdir=./logs/xor_relu_logs\n",
    "\n",
    "with tf.Session() as sess:\n",
    "    merged = tf.merge_all_summaries()\n",
    "    writer = tf.train.SummaryWriter('./logs/xor_relu_logs', sess.graph)\n",
    "\n",
    "# init\n",
    "sess.run(tf.initialize_all_variables())\n",
    "\n",
    "for step in range(10001):\n",
    "    sess.run(train, feed_dict ={x:x_data_t, y:y_data_t})\n",
    "    # fit the line\n",
    "    if(step%500 ==0):\n",
    "        print(step, sess.run(cost, feed_dict ={x:x_data_t, y:y_data_t}))\n",
    "#         summary = sess.run(merged, feed_dict ={x:x_data_t, y:y_data_t})\n",
    "#         writer.add_summary(summary, step)\n",
    "        "
   ]
  },
  {
   "cell_type": "code",
   "execution_count": null,
   "metadata": {
    "collapsed": true
   },
   "outputs": [],
   "source": []
  }
 ],
 "metadata": {
  "kernelspec": {
   "display_name": "Python 3",
   "language": "python",
   "name": "python3"
  },
  "language_info": {
   "codemirror_mode": {
    "name": "ipython",
    "version": 3
   },
   "file_extension": ".py",
   "mimetype": "text/x-python",
   "name": "python",
   "nbconvert_exporter": "python",
   "pygments_lexer": "ipython3",
   "version": "3.5.1"
  }
 },
 "nbformat": 4,
 "nbformat_minor": 0
}
