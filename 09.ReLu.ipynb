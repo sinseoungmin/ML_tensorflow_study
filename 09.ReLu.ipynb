{
 "cells": [
  {
   "cell_type": "code",
   "execution_count": 1,
   "metadata": {
    "collapsed": true
   },
   "outputs": [],
   "source": [
    "import tensorflow as tf\n",
    "import numpy as np"
   ]
  },
  {
   "cell_type": "code",
   "execution_count": 6,
   "metadata": {
    "collapsed": false
   },
   "outputs": [],
   "source": [
    "xy = np.loadtxt('data_07.txt', unpack=True)\n",
    "\n",
    "x_data = xy[0:-1]\n",
    "y_data = xy[-1]\n",
    "\n",
    "x_data_t = x_data.transpose()\n",
    "y_data_t = [[0],[1],[1],[0]]"
   ]
  },
  {
   "cell_type": "markdown",
   "metadata": {},
   "source": [
    "### ReLU"
   ]
  },
  {
   "cell_type": "code",
   "execution_count": 12,
   "metadata": {
    "collapsed": false
   },
   "outputs": [
    {
     "name": "stdout",
     "output_type": "stream",
     "text": [
      "0 0.692947\n",
      "1000 0.215537\n",
      "2000 0.0806506\n",
      "3000 0.0471301\n",
      "4000 0.0328648\n",
      "5000 0.0250988\n",
      "6000 0.0202553\n",
      "7000 0.016957\n",
      "8000 0.0145707\n",
      "9000 0.0127662\n",
      "10000 0.0113569\n",
      "11000 0.0102232\n",
      "12000 0.00929435\n",
      "13000 0.00851887\n",
      "14000 0.00786183\n",
      "15000 0.00729867\n",
      "16000 0.00680977\n",
      "17000 0.00638212\n",
      "18000 0.00600496\n",
      "19000 0.00566935\n",
      "20000 0.00536885\n"
     ]
    }
   ],
   "source": [
    "x = tf.placeholder(tf.float32, shape=[4,2], name='x-input')\n",
    "y = tf.placeholder(tf.float32, shape=[4,1], name='y-input')\n",
    "\n",
    "\n",
    "# variable\n",
    "w1 = tf.Variable(tf.random_uniform([2,5], -1.0, 1.0), name='weight1')\n",
    "w2 = tf.Variable(tf.random_uniform([5,5], -1.0, 1.0), name='weight2')\n",
    "w3 = tf.Variable(tf.random_uniform([5,5], -1.0, 1.0), name='weight3')\n",
    "w4 = tf.Variable(tf.random_uniform([5,5], -1.0, 1.0), name='weight4')\n",
    "w5 = tf.Variable(tf.random_uniform([5,5], -1.0, 1.0), name='weight5')\n",
    "w6 = tf.Variable(tf.random_uniform([5,5], -1.0, 1.0), name='weight6')\n",
    "w7 = tf.Variable(tf.random_uniform([5,5], -1.0, 1.0), name='weight7')\n",
    "w8 = tf.Variable(tf.random_uniform([5,5], -1.0, 1.0), name='weight8')\n",
    "w9 = tf.Variable(tf.random_uniform([5,5], -1.0, 1.0), name='weight9')\n",
    "w10 = tf.Variable(tf.random_uniform([5,5], -1.0, 1.0), name='weight10')\n",
    "w11 = tf.Variable(tf.random_uniform([5,1], -1.0, 1.0), name='weight11')\n",
    "\n",
    "b1 = tf.Variable(tf.zeros([5]), name='bias1')\n",
    "b2 = tf.Variable(tf.zeros([5]), name='bias2')\n",
    "b3 = tf.Variable(tf.zeros([5]), name='bias3')\n",
    "b4 = tf.Variable(tf.zeros([5]), name='bias4')\n",
    "b5 = tf.Variable(tf.zeros([5]), name='bias5')\n",
    "b6 = tf.Variable(tf.zeros([5]), name='bias6')\n",
    "b7 = tf.Variable(tf.zeros([5]), name='bias7')\n",
    "b8 = tf.Variable(tf.zeros([5]), name='bias8')\n",
    "b9 = tf.Variable(tf.zeros([5]), name='bias9')\n",
    "b10 = tf.Variable(tf.zeros([5]), name='bias10')\n",
    "b11 = tf.Variable(tf.zeros([1]), name='bias11')\n",
    "\n",
    "\n",
    "# hypothesis\n",
    "with tf.name_scope('layer1') as scope:\n",
    "    l1 = tf.nn.relu(tf.matmul(x,w1)+b1)\n",
    "with tf.name_scope('layer2') as scope:\n",
    "    l2 = tf.nn.relu(tf.matmul(l1,w2)+b2)\n",
    "with tf.name_scope('layer3') as scope:\n",
    "    l3 = tf.nn.relu(tf.matmul(l2,w3)+b3)\n",
    "with tf.name_scope('layer4') as scope:\n",
    "    l4 = tf.nn.relu(tf.matmul(l3,w4)+b4)\n",
    "with tf.name_scope('layer5') as scope:\n",
    "    l5 = tf.nn.relu(tf.matmul(l4,w5)+b5)\n",
    "with tf.name_scope('layer6') as scope:\n",
    "    l6 = tf.nn.relu(tf.matmul(l5,w6)+b6)\n",
    "with tf.name_scope('layer7') as scope:\n",
    "    l7 = tf.nn.relu(tf.matmul(l6,w7)+b7)\n",
    "with tf.name_scope('layer8') as scope:\n",
    "    l8 = tf.nn.relu(tf.matmul(l7,w8)+b8)\n",
    "with tf.name_scope('layer9') as scope:\n",
    "    l9 = tf.nn.relu(tf.matmul(l8,w9)+b9)\n",
    "with tf.name_scope('layer10') as scope:\n",
    "    l10 = tf.nn.relu(tf.matmul(l9,w10)+b10)\n",
    "    \n",
    "with tf.name_scope('last') as scope:\n",
    "    hypothesis = tf.sigmoid(tf.matmul(l10,w11)+b11)\n",
    "\n",
    "\n",
    "# cost\n",
    "with tf.name_scope('cost') as scope:\n",
    "    cost = -tf.reduce_mean(y*tf.log(hypothesis) + (1-y)*tf.log(1-hypothesis))\n",
    "#     cost_summ = tf.scalar_summary('cost', cost)\n",
    "    \n",
    "# minimize\n",
    "a = tf.constant(0.01)\n",
    "with tf.name_scope('train') as scope:\n",
    "    optimizer = tf.train.GradientDescentOptimizer(a)\n",
    "    train = optimizer.minimize(cost)\n",
    "    \n",
    "\n",
    "    \n",
    "# tensorboard --logdir=./logs/xor_relu_logs\n",
    "# with tf.Session() as sess:\n",
    "#     merged = tf.merge_all_summaries()\n",
    "#     writer = tf.train.SummaryWriter('./logs/xor_relu_logs', sess.graph)\n",
    "\n",
    "\n",
    "# init\n",
    "sess = tf.Session()\n",
    "sess.run(tf.global_variables_initializer())\n",
    "\n",
    "for step in range(20001):\n",
    "    sess.run(train, feed_dict ={x:x_data_t, y:y_data_t})\n",
    "\n",
    "    if(step%1000 ==0):\n",
    "        print(step, sess.run(cost, feed_dict ={x:x_data_t, y:y_data_t}))\n",
    "#         summary = sess.run(merged, feed_dict ={x:x_data_t, y:y_data_t})\n",
    "#         writer.add_summary(summary, step)\n",
    "        "
   ]
  },
  {
   "cell_type": "code",
   "execution_count": null,
   "metadata": {
    "collapsed": true
   },
   "outputs": [],
   "source": []
  },
  {
   "cell_type": "code",
   "execution_count": null,
   "metadata": {
    "collapsed": true
   },
   "outputs": [],
   "source": []
  }
 ],
 "metadata": {
  "anaconda-cloud": {},
  "kernelspec": {
   "display_name": "Python [default]",
   "language": "python",
   "name": "python3"
  },
  "language_info": {
   "codemirror_mode": {
    "name": "ipython",
    "version": 3
   },
   "file_extension": ".py",
   "mimetype": "text/x-python",
   "name": "python",
   "nbconvert_exporter": "python",
   "pygments_lexer": "ipython3",
   "version": "3.5.2"
  }
 },
 "nbformat": 4,
 "nbformat_minor": 0
}
