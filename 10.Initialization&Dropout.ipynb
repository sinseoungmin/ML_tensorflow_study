{
 "cells": [
  {
   "cell_type": "code",
   "execution_count": 1,
   "metadata": {
    "collapsed": true
   },
   "outputs": [],
   "source": [
    "import tensorflow as tf\n",
    "import pandas as pd\n",
    "import numpy as np\n",
    "from sklearn.preprocessing import  LabelBinarizer\n",
    "\n",
    "from tensorflow.examples.tutorials.mnist import input_data\n",
    "mnist = input_data.read_data_sets('MNIST_data/', one_hot=True)"
   ]
  },
  {
   "cell_type": "markdown",
   "metadata": {},
   "source": [
    "#### 위 코드가 안될 시 아래 방식으로 mnist csv 가져옴"
   ]
  },
  {
   "cell_type": "code",
   "execution_count": 2,
   "metadata": {
    "collapsed": false
   },
   "outputs": [],
   "source": [
    "df_train = pd.read_csv('./mnist_csv/mnist_train.csv', header=None)\n",
    "df_test = pd.read_csv('./mnist_csv/mnist_test.csv', header=None)\n",
    "\n",
    "train_list = list(df_train)\n",
    "test_list = list(df_test)\n",
    "\n",
    "train_images = df_train.iloc[:,1:].values\n",
    "test_images = df_test.iloc[:,1:].values\n",
    "\n",
    "lb1 = LabelBinarizer()\n",
    "lb2 = LabelBinarizer()\n",
    "train_labels = lb1.fit_transform(df_train.iloc[:,0].values)\n",
    "test_labels = lb2.fit_transform(df_test.iloc[:,0].values)\n",
    "\n",
    "mnist = {'train':{\n",
    "        'images':train_images,\n",
    "        'labels':train_labels},\n",
    "        'test':{\n",
    "        'images':test_images,\n",
    "        'labels':test_labels}\n",
    "         }"
   ]
  },
  {
   "cell_type": "markdown",
   "metadata": {},
   "source": [
    "### softmax classifier "
   ]
  },
  {
   "cell_type": "code",
   "execution_count": 10,
   "metadata": {
    "collapsed": false
   },
   "outputs": [
    {
     "name": "stdout",
     "output_type": "stream",
     "text": [
      "Epoch: 0001 cost= 1.177053162\n",
      "Accuracy:  0.8561\n",
      "Epoch: 0002 cost= 0.662652940\n",
      "Accuracy:  0.8744\n",
      "Epoch: 0003 cost= 0.550684364\n",
      "Accuracy:  0.8822\n",
      "Epoch: 0004 cost= 0.496750795\n",
      "Accuracy:  0.8879\n",
      "Epoch: 0005 cost= 0.463723682\n",
      "Accuracy:  0.8905\n",
      "Epoch: 0006 cost= 0.440943577\n",
      "Accuracy:  0.8952\n",
      "Epoch: 0007 cost= 0.423945613\n",
      "Accuracy:  0.8979\n",
      "Epoch: 0008 cost= 0.410667528\n",
      "Accuracy:  0.8999\n",
      "Epoch: 0009 cost= 0.399911019\n",
      "Accuracy:  0.9002\n",
      "Epoch: 0010 cost= 0.390939410\n",
      "Accuracy:  0.9031\n",
      "Epoch: 0011 cost= 0.383391962\n",
      "Accuracy:  0.9048\n",
      "Epoch: 0012 cost= 0.376766298\n",
      "Accuracy:  0.9057\n",
      "Epoch: 0013 cost= 0.370985510\n",
      "Accuracy:  0.9067\n",
      "Epoch: 0014 cost= 0.365930335\n",
      "Accuracy:  0.908\n",
      "Epoch: 0015 cost= 0.361394126\n",
      "Accuracy:  0.9084\n",
      "Optimization Finished!\n"
     ]
    }
   ],
   "source": [
    "# parameter\n",
    "learning_rate = 0.01\n",
    "training_epochs = 15\n",
    "batch_size =100\n",
    "display_step = 1\n",
    "\n",
    "x = tf.placeholder('float', [None, 784])\n",
    "y = tf.placeholder('float', [None, 10])\n",
    "\n",
    "w = tf.Variable(tf.zeros([784,10]))\n",
    "b = tf.Variable(tf.zeros([10]))\n",
    "\n",
    "# construct model\n",
    "activation = tf.nn.softmax(tf.matmul(x,w)+b)\n",
    "\n",
    "# minimize cost\n",
    "cost = tf.reduce_mean(-tf.reduce_sum(y*tf.log(activation), reduction_indices=1)) # cross entropy\n",
    "optimizer = tf.train.GradientDescentOptimizer(learning_rate).minimize(cost) # gradient descent\n",
    "\n",
    "init = tf.global_variables_initializer()\n",
    "\n",
    "# launch the graph\n",
    "with tf.Session() as sess:\n",
    "    sess.run(init)\n",
    "    \n",
    "    # training cycle <- mnist database 있을 때,\n",
    "    for epoch in range(training_epochs):\n",
    "        avg_cost = 0.\n",
    "        total_batch = int(mnist.train.num_examples/batch_size)\n",
    "        \n",
    "        # loop over all batches\n",
    "        for i in range(total_batch):\n",
    "            batch_xs, batch_ys = mnist.train.next_batch(batch_size)\n",
    "            # fit training using batch data\n",
    "            sess.run(optimizer, feed_dict={x:batch_xs, y:batch_ys})\n",
    "            # compute average loss\n",
    "            avg_cost += sess.run(cost, feed_dict={x:batch_xs, y:batch_ys})/total_batch\n",
    "            \n",
    "        if epoch % display_step == 0:\n",
    "            print('Epoch:', '%04d'%(epoch+1), 'cost=','{:.9f}'.format(avg_cost))\n",
    "            correc_prediction = tf.equal(tf.arg_max(activation,1), tf.argmax(y,1))\n",
    "            accuracy = tf.reduce_mean(tf.cast(correc_prediction, tf.float32))\n",
    "            print('Accuracy: ',sess.run(accuracy, feed_dict={x:mnist.test.images, y:mnist.test.labels}))\n",
    "            \n",
    "    print('Optimization Finished!')\n",
    "\n",
    "            \n",
    "        \n",
    "#     # training cycle <- mnist 없을 때\n",
    "#     feed_train = {x:mnist['train']['images'], y:mnist['train']['labels']}\n",
    "#     feed_test = {x:mnist['test']['images'], y:mnist['test']['labels']}\n",
    "#     for step in range(501):\n",
    "#         sess.run(optimizer, feed_dict=feed_train)\n",
    "        \n",
    "#         if step%20==0:\n",
    "#             print(step, sess.run(cost, feed_dict=feed_train))\n",
    "#         if step%100==0:\n",
    "#             correc_prediction = tf.equal(tf.arg_max(activation,1), tf.argmax(y,1))\n",
    "#             accuracy = tf.reduce_mean(tf.cast(correc_prediction, tf.float32))\n",
    "#             print(sess.run(accuracy, feed_dict=feed_test))"
   ]
  },
  {
   "cell_type": "markdown",
   "metadata": {},
   "source": [
    "### NN with initialization & dropout"
   ]
  },
  {
   "cell_type": "markdown",
   "metadata": {
    "collapsed": true
   },
   "source": [
    "#### Xavier initialization"
   ]
  },
  {
   "cell_type": "code",
   "execution_count": 3,
   "metadata": {
    "collapsed": true
   },
   "outputs": [],
   "source": [
    "def xavier_init(n_inputs, n_outputs, uniform=True):\n",
    "    if uniform:\n",
    "        init_range = tf.sqrt(6.0 / (n_inputs+n_outputs))\n",
    "        return tf.random_uniform_initializer(-init_range, init_range)\n",
    "    else:\n",
    "        stddev = tf.sqrt(3.0/ (n_inputs+n_outputs))\n",
    "        return tf.truncated_normal_initializer(stddev=stddev)"
   ]
  },
  {
   "cell_type": "code",
   "execution_count": 4,
   "metadata": {
    "collapsed": false
   },
   "outputs": [
    {
     "name": "stdout",
     "output_type": "stream",
     "text": [
      "Epoch: 0001 cost= 0.712773009\n",
      "Accuracy:  0.9327\n",
      "Epoch: 0002 cost= 0.253829555\n",
      "Accuracy:  0.9605\n",
      "Epoch: 0003 cost= 0.190043738\n",
      "Accuracy:  0.9648\n",
      "Epoch: 0004 cost= 0.157804752\n",
      "Accuracy:  0.9671\n",
      "Epoch: 0005 cost= 0.128981147\n",
      "Accuracy:  0.9721\n",
      "Epoch: 0006 cost= 0.117702882\n",
      "Accuracy:  0.9745\n",
      "Epoch: 0007 cost= 0.110079603\n",
      "Accuracy:  0.9755\n",
      "Epoch: 0008 cost= 0.096193713\n",
      "Accuracy:  0.9765\n",
      "Epoch: 0009 cost= 0.091750590\n",
      "Accuracy:  0.9765\n",
      "Epoch: 0010 cost= 0.085452255\n",
      "Accuracy:  0.9767\n",
      "Epoch: 0011 cost= 0.080557575\n",
      "Accuracy:  0.9789\n",
      "Epoch: 0012 cost= 0.076146642\n",
      "Accuracy:  0.9778\n",
      "Epoch: 0013 cost= 0.072642161\n",
      "Accuracy:  0.9789\n",
      "Epoch: 0014 cost= 0.067537851\n",
      "Accuracy:  0.9796\n",
      "Epoch: 0015 cost= 0.066766725\n",
      "Accuracy:  0.9805\n",
      "Optimization Finished!\n"
     ]
    }
   ],
   "source": [
    "# parameter\n",
    "learning_rate = 0.001\n",
    "training_epochs = 15\n",
    "batch_size = 100\n",
    "display_step = 1\n",
    "\n",
    "# tf graph input\n",
    "x = tf.placeholder('float', [None, 784])\n",
    "y = tf.placeholder('float', [None, 10])\n",
    "\n",
    "# 기본 초기값\n",
    "# w1 = tf.Variable(tf.random_normal([784,256]))\n",
    "# w2 = tf.Variable(tf.random_normal([256,256]))\n",
    "# w3 = tf.Variable(tf.random_normal([256,10]))\n",
    "\n",
    "# Xavier initialization\n",
    "w1 = tf.get_variable('w1', shape=[784, 256], initializer=xavier_init(784, 256))\n",
    "w2 = tf.get_variable('w2', shape=[256, 256], initializer=xavier_init(256, 256))\n",
    "w3 = tf.get_variable('w3', shape=[256, 128], initializer=xavier_init(256, 128))\n",
    "w4 = tf.get_variable('w4', shape=[128, 64], initializer=xavier_init(128, 64))\n",
    "w5 = tf.get_variable('w5', shape=[64, 10], initializer=xavier_init(64, 10))\n",
    "b1 = tf.Variable(tf.random_normal([256]))\n",
    "b2 = tf.Variable(tf.random_normal([256]))\n",
    "b3 = tf.Variable(tf.random_normal([128]))\n",
    "b4 = tf.Variable(tf.random_normal([64]))\n",
    "b5 = tf.Variable(tf.random_normal([10]))\n",
    "\n",
    "# 기본 모델\n",
    "# l1 = tf.nn.relu(tf.matmul(x,w1)+b1)\n",
    "# l2 = tf.nn.relu(tf.matmul(l1,w2)+b2) # hidden layer with relu activation\n",
    "# hypothesis = tf.matmul(l2,w3)+b3 # no need to use softmax here\n",
    "\n",
    "# more deep & Dropout\n",
    "dropout_rate = tf.placeholder('float')\n",
    "_l1 = tf.nn.relu(tf.add(tf.matmul(x, w1), b1))\n",
    "l1 = tf.nn.dropout(_l1, dropout_rate)\n",
    "_l2 = tf.nn.relu(tf.add(tf.matmul(l1, w2), b2))\n",
    "l2 = tf.nn.dropout(_l2, dropout_rate)\n",
    "_l3 = tf.nn.relu(tf.add(tf.matmul(l2, w3), b3))\n",
    "l3 = tf.nn.dropout(_l3, dropout_rate)\n",
    "_l4 = tf.nn.relu(tf.add(tf.matmul(l3, w4), b4))\n",
    "l4 = tf.nn.dropout(_l4, dropout_rate)\n",
    "\n",
    "hypothesis = tf.add(tf.matmul(l4, w5), b5)\n",
    "\n",
    "# define cost & optimizer\n",
    "cost = tf.reduce_mean(tf.nn.softmax_cross_entropy_with_logits(hypothesis, y))  # softmax loss\n",
    "optimizer = tf.train.AdamOptimizer(learning_rate=learning_rate).minimize(cost)\n",
    "\n",
    "# initializing the variables\n",
    "init = tf.global_variables_initializer()\n",
    "\n",
    "# launch the graph\n",
    "with tf.Session() as sess:\n",
    "    sess.run(init)\n",
    "\n",
    "    # training cycle <- mnist database 있을 때,\n",
    "    for epoch in range(training_epochs):\n",
    "        avg_cost = 0.\n",
    "        total_batch = int(mnist.train.num_examples / batch_size)\n",
    "\n",
    "        # loop over all batches\n",
    "        for i in range(total_batch):\n",
    "            batch_xs, batch_ys = mnist.train.next_batch(batch_size)\n",
    "            # fit training using batch data\n",
    "            sess.run(optimizer, feed_dict={x: batch_xs, y: batch_ys, dropout_rate: 0.7})\n",
    "            # compute average loss\n",
    "            avg_cost += sess.run(cost, feed_dict={x: batch_xs, y: batch_ys, dropout_rate: 0.7}) / total_batch\n",
    "\n",
    "        if epoch % display_step == 0:\n",
    "            print('Epoch:', '%04d' % (epoch + 1), 'cost=', '{:.9f}'.format(avg_cost))\n",
    "            correc_prediction = tf.equal(tf.arg_max(hypothesis, 1), tf.argmax(y, 1))\n",
    "            accuracy = tf.reduce_mean(tf.cast(correc_prediction, tf.float32))\n",
    "            print('Accuracy: ',\n",
    "                  sess.run(accuracy, feed_dict={x: mnist.test.images, y: mnist.test.labels, dropout_rate: 1.0}))\n",
    "\n",
    "    print('Optimization Finished!')\n",
    "\n",
    "            \n",
    "        \n",
    "#     # training cycle <- mnist 없을 때\n",
    "#     feed_train = {x:mnist['train']['images'], y:mnist['train']['labels']}\n",
    "#     feed_test = {x:mnist['test']['images'], y:mnist['test']['labels']}\n",
    "#     for step in range(501):\n",
    "#         sess.run(optimizer, feed_dict=feed_train)\n",
    "        \n",
    "#         if step%20==0:\n",
    "#             print(step, sess.run(cost, feed_dict=feed_train))\n",
    "#         if step%100==0:\n",
    "#             correc_prediction = tf.equal(tf.arg_max(activation,1), tf.argmax(y,1))\n",
    "#             accuracy = tf.reduce_mean(tf.cast(correc_prediction, tf.float32))\n",
    "#             print(sess.run(accuracy, feed_dict=feed_test))"
   ]
  },
  {
   "cell_type": "markdown",
   "metadata": {
    "collapsed": true
   },
   "source": [
    "### 정리"
   ]
  },
  {
   "cell_type": "markdown",
   "metadata": {},
   "source": [
    "- Softmax vs Neural Nets for MNIST => 91.4% vs 94.4%\n",
    "- Xavier initialization: 97.8%\n",
    "- Deep Neural Nets and Dropout: 98%\n",
    "- Adam optimizer"
   ]
  },
  {
   "cell_type": "code",
   "execution_count": null,
   "metadata": {
    "collapsed": true
   },
   "outputs": [],
   "source": []
  }
 ],
 "metadata": {
  "anaconda-cloud": {},
  "kernelspec": {
   "display_name": "Python 3",
   "language": "python",
   "name": "python3"
  },
  "language_info": {
   "codemirror_mode": {
    "name": "ipython",
    "version": 3
   },
   "file_extension": ".py",
   "mimetype": "text/x-python",
   "name": "python",
   "nbconvert_exporter": "python",
   "pygments_lexer": "ipython3",
   "version": "3.5.1"
  }
 },
 "nbformat": 4,
 "nbformat_minor": 1
}
