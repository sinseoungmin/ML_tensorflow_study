{
 "cells": [
  {
   "cell_type": "code",
   "execution_count": 2,
   "metadata": {
    "collapsed": true
   },
   "outputs": [],
   "source": [
    "import tensorflow as tf"
   ]
  },
  {
   "cell_type": "code",
   "execution_count": 3,
   "metadata": {
    "collapsed": false
   },
   "outputs": [
    {
     "name": "stdout",
     "output_type": "stream",
     "text": [
      "0 0.562602 [ 1.8383069] [ 1.06174397]\n",
      "20 0.0488338 [ 1.74334121] [ 0.58344573]\n",
      "40 0.0184507 [ 1.84223795] [ 0.3586303]\n",
      "60 0.00697119 [ 1.90302742] [ 0.22044149]\n",
      "80 0.00263391 [ 1.94039321] [ 0.13550012]\n",
      "100 0.000995155 [ 1.96336126] [ 0.08328873]\n",
      "120 0.000375992 [ 1.9774791] [ 0.05119556]\n",
      "140 0.000142063 [ 1.98615694] [ 0.03146881]\n",
      "160 5.36745e-05 [ 1.99149096] [ 0.01934316]\n",
      "180 2.02793e-05 [ 1.99476969] [ 0.0118898]\n",
      "[ 9.99101734]\n"
     ]
    }
   ],
   "source": [
    "x_data = [1,2,3]\n",
    "y_data = [2,4,6]\n",
    "\n",
    "W = tf.Variable(tf.random_uniform([1], -1.0, 1.0))\n",
    "b = tf.Variable(tf.random_uniform([1], -1.0, 1.0))\n",
    "\n",
    "X = tf.placeholder(tf.float32)\n",
    "Y = tf.placeholder(tf.float32)\n",
    "\n",
    "hypothesis = W * X + b\n",
    "\n",
    "cost = tf.reduce_mean(tf.square(hypothesis - Y))\n",
    "\n",
    "a = tf.Variable(0.1)\n",
    "optimizer = tf.train.GradientDescentOptimizer(a)\n",
    "train = optimizer.minimize(cost)\n",
    "\n",
    "init = tf.global_variables_initializer()\n",
    "\n",
    "sess = tf.Session()\n",
    "sess.run(init)\n",
    "\n",
    "for step in range(200):\n",
    "    sess.run(train, feed_dict={X:x_data, Y:y_data})\n",
    "    if step%20==0:\n",
    "        print(step, sess.run(cost, feed_dict={X:x_data, Y:y_data}), sess.run(W), sess.run(b))\n",
    "        \n",
    "print(sess.run(hypothesis, feed_dict={X:5}))\n"
   ]
  },
  {
   "cell_type": "markdown",
   "metadata": {
    "collapsed": true
   },
   "source": [
    "### 경사하강법"
   ]
  },
  {
   "cell_type": "code",
   "execution_count": 8,
   "metadata": {
    "collapsed": false,
    "scrolled": true
   },
   "outputs": [
    {
     "name": "stdout",
     "output_type": "stream",
     "text": [
      "0 1.72908 [ 1.60870051]\n",
      "1 0.491826 [ 1.32464027]\n",
      "2 0.139897 [ 1.17314148]\n",
      "3 0.039793 [ 1.09234214]\n",
      "4 0.0113189 [ 1.04924917]\n",
      "5 0.00321961 [ 1.02626622]\n",
      "6 0.000915799 [ 1.01400864]\n",
      "7 0.000260496 [ 1.00747132]\n",
      "8 7.40962e-05 [ 1.00398469]\n",
      "9 2.10753e-05 [ 1.00212514]\n",
      "10 5.99522e-06 [ 1.00113344]\n",
      "11 1.70521e-06 [ 1.00060451]\n",
      "12 4.85322e-07 [ 1.00032246]\n",
      "13 1.38048e-07 [ 1.00017202]\n",
      "14 3.93195e-08 [ 1.00009179]\n",
      "15 1.11907e-08 [ 1.000049]\n",
      "16 3.17443e-09 [ 1.00002611]\n",
      "17 9.11148e-10 [ 1.00001395]\n",
      "18 2.54924e-10 [ 1.00000739]\n",
      "19 7.31622e-11 [ 1.00000393]\n"
     ]
    }
   ],
   "source": [
    "import matplotlib.pyplot as plt\n",
    "\n",
    "#tf graph input\n",
    "x_data = [1.0,2.0,3.0]\n",
    "y_data = [1.0,2.0,3.0]\n",
    "\n",
    "# set model weights\n",
    "W = tf.Variable(tf.random_uniform([1], -10.0, 10.0))\n",
    "\n",
    "X = tf.placeholder(tf.float32)\n",
    "Y = tf.placeholder(tf.float32)\n",
    "\n",
    "# Our hypothesis\n",
    "hypothesis = W*X\n",
    "\n",
    "# cost function\n",
    "cost = tf.reduce_mean(tf.square(hypothesis-Y))\n",
    "\n",
    "# minimize(derivative)\n",
    "descent = W - tf.mul(0.1, tf.reduce_mean(tf.mul((tf.mul(W,X)-Y),X)))\n",
    "update = W.assign(descent)\n",
    "\n",
    "# initialize the variables\n",
    "init = tf.global_variables_initializer()\n",
    "\n",
    "# launch the graph\n",
    "sess = tf.Session()\n",
    "sess.run(init)\n",
    "\n",
    "for step in range(20):\n",
    "    sess.run(update, feed_dict={X:x_data, Y:y_data})\n",
    "    print(step, sess.run(cost, feed_dict={X:x_data, Y:y_data}), sess.run(W))"
   ]
  },
  {
   "cell_type": "code",
   "execution_count": null,
   "metadata": {
    "collapsed": true
   },
   "outputs": [],
   "source": []
  }
 ],
 "metadata": {
  "anaconda-cloud": {},
  "kernelspec": {
   "display_name": "Python [default]",
   "language": "python",
   "name": "python3"
  },
  "language_info": {
   "codemirror_mode": {
    "name": "ipython",
    "version": 3
   },
   "file_extension": ".py",
   "mimetype": "text/x-python",
   "name": "python",
   "nbconvert_exporter": "python",
   "pygments_lexer": "ipython3",
   "version": "3.5.2"
  }
 },
 "nbformat": 4,
 "nbformat_minor": 0
}
